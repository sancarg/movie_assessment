{
 "cells": [
  {
   "cell_type": "markdown",
   "id": "47fdd0d5",
   "metadata": {
    "toc": true
   },
   "source": [
    "<h1>Table of Contents<span class=\"tocSkip\"></span></h1>\n",
    "<div class=\"toc\"><ul class=\"toc-item\"></ul></div>"
   ]
  },
  {
   "cell_type": "code",
   "execution_count": 1,
   "id": "774dd858",
   "metadata": {},
   "outputs": [],
   "source": [
    "import pandas as pd\n",
    "import numpy as np\n",
    "import os"
   ]
  },
  {
   "cell_type": "code",
   "execution_count": 2,
   "id": "25b8f3bb",
   "metadata": {
    "scrolled": true
   },
   "outputs": [
    {
     "data": {
      "text/html": [
       "<div>\n",
       "<style scoped>\n",
       "    .dataframe tbody tr th:only-of-type {\n",
       "        vertical-align: middle;\n",
       "    }\n",
       "\n",
       "    .dataframe tbody tr th {\n",
       "        vertical-align: top;\n",
       "    }\n",
       "\n",
       "    .dataframe thead th {\n",
       "        text-align: right;\n",
       "    }\n",
       "</style>\n",
       "<table border=\"1\" class=\"dataframe\">\n",
       "  <thead>\n",
       "    <tr style=\"text-align: right;\">\n",
       "      <th></th>\n",
       "      <th>Movie_Name</th>\n",
       "      <th>Certification</th>\n",
       "      <th>Release_Date</th>\n",
       "      <th>Genres</th>\n",
       "      <th>Language</th>\n",
       "      <th>Budget</th>\n",
       "      <th>Revenue</th>\n",
       "      <th>Runtime</th>\n",
       "    </tr>\n",
       "  </thead>\n",
       "  <tbody>\n",
       "    <tr>\n",
       "      <th>0</th>\n",
       "      <td>Black Panther: Wakanda Forever</td>\n",
       "      <td>PG13</td>\n",
       "      <td>11/10/2022</td>\n",
       "      <td>['Action,', 'Adventure,', 'Science Fiction']</td>\n",
       "      <td>English</td>\n",
       "      <td>$250,000,000.00</td>\n",
       "      <td>$835,000,000.00</td>\n",
       "      <td>162.0</td>\n",
       "    </tr>\n",
       "    <tr>\n",
       "      <th>1</th>\n",
       "      <td>Puss in Boots: The Last Wish</td>\n",
       "      <td>PG</td>\n",
       "      <td>12/08/2022</td>\n",
       "      <td>['Animation,', 'Adventure,', 'Comedy,', 'Famil...</td>\n",
       "      <td>English</td>\n",
       "      <td>$90,000,000.00</td>\n",
       "      <td>$369,105,725.00</td>\n",
       "      <td>103.0</td>\n",
       "    </tr>\n",
       "    <tr>\n",
       "      <th>2</th>\n",
       "      <td>Shotgun Wedding</td>\n",
       "      <td>R</td>\n",
       "      <td>12/28/2022</td>\n",
       "      <td>['Action,', 'Romance,', 'Comedy']</td>\n",
       "      <td>English</td>\n",
       "      <td>-</td>\n",
       "      <td>$4,495,365.00</td>\n",
       "      <td>101.0</td>\n",
       "    </tr>\n",
       "    <tr>\n",
       "      <th>3</th>\n",
       "      <td>M3GAN</td>\n",
       "      <td>PG13</td>\n",
       "      <td>01/05/2023</td>\n",
       "      <td>['Science Fiction,', 'Horror,', 'Comedy']</td>\n",
       "      <td>English</td>\n",
       "      <td>$12,000,000.00</td>\n",
       "      <td>$158,000,000.00</td>\n",
       "      <td>102.0</td>\n",
       "    </tr>\n",
       "    <tr>\n",
       "      <th>4</th>\n",
       "      <td>Transfusion</td>\n",
       "      <td>MA15+</td>\n",
       "      <td>01/05/2023</td>\n",
       "      <td>['Crime,', 'Thriller,', 'Drama']</td>\n",
       "      <td>English</td>\n",
       "      <td>-</td>\n",
       "      <td>-</td>\n",
       "      <td>105.0</td>\n",
       "    </tr>\n",
       "    <tr>\n",
       "      <th>...</th>\n",
       "      <td>...</td>\n",
       "      <td>...</td>\n",
       "      <td>...</td>\n",
       "      <td>...</td>\n",
       "      <td>...</td>\n",
       "      <td>...</td>\n",
       "      <td>...</td>\n",
       "      <td>...</td>\n",
       "    </tr>\n",
       "    <tr>\n",
       "      <th>3961</th>\n",
       "      <td>The Watch</td>\n",
       "      <td>R</td>\n",
       "      <td>08/23/2012</td>\n",
       "      <td>['Comedy,', 'Action,', 'Science Fiction']</td>\n",
       "      <td>English</td>\n",
       "      <td>$68,000,000.00</td>\n",
       "      <td>$68,267,862.00</td>\n",
       "      <td>102.0</td>\n",
       "    </tr>\n",
       "    <tr>\n",
       "      <th>3962</th>\n",
       "      <td>Primeval</td>\n",
       "      <td>R</td>\n",
       "      <td>01/12/2007</td>\n",
       "      <td>['Adventure,', 'Horror']</td>\n",
       "      <td>English</td>\n",
       "      <td>-</td>\n",
       "      <td>$10,597,734.00</td>\n",
       "      <td>93.0</td>\n",
       "    </tr>\n",
       "    <tr>\n",
       "      <th>3963</th>\n",
       "      <td>The Girl in the Spider's Web</td>\n",
       "      <td>R</td>\n",
       "      <td>11/09/2018</td>\n",
       "      <td>['Action,', 'Crime,', 'Thriller,', 'Drama']</td>\n",
       "      <td>English</td>\n",
       "      <td>$43,000,000.00</td>\n",
       "      <td>$35,164,920.00</td>\n",
       "      <td>115.0</td>\n",
       "    </tr>\n",
       "    <tr>\n",
       "      <th>3964</th>\n",
       "      <td>Scooby-Doo on Zombie Island</td>\n",
       "      <td>PG</td>\n",
       "      <td>09/22/1998</td>\n",
       "      <td>['Animation,', 'Mystery,', 'Family,', 'Horror']</td>\n",
       "      <td>English</td>\n",
       "      <td>-</td>\n",
       "      <td>-</td>\n",
       "      <td>77.0</td>\n",
       "    </tr>\n",
       "    <tr>\n",
       "      <th>3965</th>\n",
       "      <td>Wu Kong</td>\n",
       "      <td>NaN</td>\n",
       "      <td>07/13/2017</td>\n",
       "      <td>['Fantasy,', 'Action,', 'Adventure']</td>\n",
       "      <td>Released</td>\n",
       "      <td>Language</td>\n",
       "      <td>-</td>\n",
       "      <td>130.0</td>\n",
       "    </tr>\n",
       "  </tbody>\n",
       "</table>\n",
       "<p>3966 rows × 8 columns</p>\n",
       "</div>"
      ],
      "text/plain": [
       "                          Movie_Name Certification Release_Date  \\\n",
       "0     Black Panther: Wakanda Forever          PG13   11/10/2022   \n",
       "1       Puss in Boots: The Last Wish            PG   12/08/2022   \n",
       "2                    Shotgun Wedding             R   12/28/2022   \n",
       "3                              M3GAN          PG13   01/05/2023   \n",
       "4                        Transfusion         MA15+   01/05/2023   \n",
       "...                              ...           ...          ...   \n",
       "3961                       The Watch             R   08/23/2012   \n",
       "3962                        Primeval             R   01/12/2007   \n",
       "3963    The Girl in the Spider's Web             R   11/09/2018   \n",
       "3964     Scooby-Doo on Zombie Island            PG   09/22/1998   \n",
       "3965                         Wu Kong           NaN   07/13/2017   \n",
       "\n",
       "                                                 Genres  Language  \\\n",
       "0          ['Action,', 'Adventure,', 'Science Fiction']   English   \n",
       "1     ['Animation,', 'Adventure,', 'Comedy,', 'Famil...   English   \n",
       "2                     ['Action,', 'Romance,', 'Comedy']   English   \n",
       "3             ['Science Fiction,', 'Horror,', 'Comedy']   English   \n",
       "4                      ['Crime,', 'Thriller,', 'Drama']   English   \n",
       "...                                                 ...       ...   \n",
       "3961          ['Comedy,', 'Action,', 'Science Fiction']   English   \n",
       "3962                           ['Adventure,', 'Horror']   English   \n",
       "3963        ['Action,', 'Crime,', 'Thriller,', 'Drama']   English   \n",
       "3964    ['Animation,', 'Mystery,', 'Family,', 'Horror']   English   \n",
       "3965               ['Fantasy,', 'Action,', 'Adventure']  Released   \n",
       "\n",
       "               Budget          Revenue  Runtime  \n",
       "0     $250,000,000.00  $835,000,000.00    162.0  \n",
       "1      $90,000,000.00  $369,105,725.00    103.0  \n",
       "2                   -    $4,495,365.00    101.0  \n",
       "3      $12,000,000.00  $158,000,000.00    102.0  \n",
       "4                   -                -    105.0  \n",
       "...               ...              ...      ...  \n",
       "3961   $68,000,000.00   $68,267,862.00    102.0  \n",
       "3962                -   $10,597,734.00     93.0  \n",
       "3963   $43,000,000.00   $35,164,920.00    115.0  \n",
       "3964                -                -     77.0  \n",
       "3965         Language                -    130.0  \n",
       "\n",
       "[3966 rows x 8 columns]"
      ]
     },
     "execution_count": 2,
     "metadata": {},
     "output_type": "execute_result"
    }
   ],
   "source": [
    "df = pd.read_csv('Movies_dataset.csv')\n",
    "df"
   ]
  },
  {
   "cell_type": "code",
   "execution_count": 3,
   "id": "eee415dc",
   "metadata": {},
   "outputs": [
    {
     "name": "stdout",
     "output_type": "stream",
     "text": [
      "<class 'pandas.core.frame.DataFrame'>\n",
      "RangeIndex: 3966 entries, 0 to 3965\n",
      "Data columns (total 8 columns):\n",
      " #   Column         Non-Null Count  Dtype  \n",
      "---  ------         --------------  -----  \n",
      " 0   Movie_Name     3966 non-null   object \n",
      " 1   Certification  3697 non-null   object \n",
      " 2   Release_Date   3966 non-null   object \n",
      " 3   Genres         3966 non-null   object \n",
      " 4   Language       3966 non-null   object \n",
      " 5   Budget         3966 non-null   object \n",
      " 6   Revenue        3966 non-null   object \n",
      " 7   Runtime        3702 non-null   float64\n",
      "dtypes: float64(1), object(7)\n",
      "memory usage: 248.0+ KB\n"
     ]
    }
   ],
   "source": [
    "df.info()"
   ]
  },
  {
   "cell_type": "code",
   "execution_count": 4,
   "id": "02030aa9",
   "metadata": {},
   "outputs": [],
   "source": [
    "df = df.drop(columns=[\"Certification\", \"Language\", \"Budget\"])"
   ]
  },
  {
   "cell_type": "code",
   "execution_count": 5,
   "id": "ce002410",
   "metadata": {},
   "outputs": [],
   "source": [
    "# Convert the Relesa_Date column to datetime format:\n",
    "df['Release_Date'] = pd.to_datetime(df['Release_Date'], format='%m/%d/%Y')"
   ]
  },
  {
   "cell_type": "code",
   "execution_count": 6,
   "id": "6eac16fa",
   "metadata": {},
   "outputs": [],
   "source": [
    "# Extract the year and convert it to integer:\n",
    "df['Year'] = df['Release_Date'].dt.year"
   ]
  },
  {
   "cell_type": "code",
   "execution_count": 7,
   "id": "f47d5881",
   "metadata": {},
   "outputs": [],
   "source": [
    "# Ensure the 'Year' column is of integer type:\n",
    "df['Year'] = df['Year'].astype(int)"
   ]
  },
  {
   "cell_type": "code",
   "execution_count": 9,
   "id": "c3a547cb",
   "metadata": {},
   "outputs": [],
   "source": [
    "df = df.drop(columns=[\"Release_Date\"])"
   ]
  },
  {
   "cell_type": "code",
   "execution_count": 10,
   "id": "5b1c88cb",
   "metadata": {},
   "outputs": [
    {
     "data": {
      "text/html": [
       "<div>\n",
       "<style scoped>\n",
       "    .dataframe tbody tr th:only-of-type {\n",
       "        vertical-align: middle;\n",
       "    }\n",
       "\n",
       "    .dataframe tbody tr th {\n",
       "        vertical-align: top;\n",
       "    }\n",
       "\n",
       "    .dataframe thead th {\n",
       "        text-align: right;\n",
       "    }\n",
       "</style>\n",
       "<table border=\"1\" class=\"dataframe\">\n",
       "  <thead>\n",
       "    <tr style=\"text-align: right;\">\n",
       "      <th></th>\n",
       "      <th>Runtime</th>\n",
       "      <th>Year</th>\n",
       "    </tr>\n",
       "  </thead>\n",
       "  <tbody>\n",
       "    <tr>\n",
       "      <th>count</th>\n",
       "      <td>3702.000000</td>\n",
       "      <td>3966.000000</td>\n",
       "    </tr>\n",
       "    <tr>\n",
       "      <th>mean</th>\n",
       "      <td>105.704754</td>\n",
       "      <td>2011.146243</td>\n",
       "    </tr>\n",
       "    <tr>\n",
       "      <th>std</th>\n",
       "      <td>21.589413</td>\n",
       "      <td>12.776586</td>\n",
       "    </tr>\n",
       "    <tr>\n",
       "      <th>min</th>\n",
       "      <td>61.000000</td>\n",
       "      <td>1932.000000</td>\n",
       "    </tr>\n",
       "    <tr>\n",
       "      <th>25%</th>\n",
       "      <td>91.000000</td>\n",
       "      <td>2006.000000</td>\n",
       "    </tr>\n",
       "    <tr>\n",
       "      <th>50%</th>\n",
       "      <td>102.000000</td>\n",
       "      <td>2015.000000</td>\n",
       "    </tr>\n",
       "    <tr>\n",
       "      <th>75%</th>\n",
       "      <td>116.000000</td>\n",
       "      <td>2021.000000</td>\n",
       "    </tr>\n",
       "    <tr>\n",
       "      <th>max</th>\n",
       "      <td>248.000000</td>\n",
       "      <td>2023.000000</td>\n",
       "    </tr>\n",
       "  </tbody>\n",
       "</table>\n",
       "</div>"
      ],
      "text/plain": [
       "           Runtime         Year\n",
       "count  3702.000000  3966.000000\n",
       "mean    105.704754  2011.146243\n",
       "std      21.589413    12.776586\n",
       "min      61.000000  1932.000000\n",
       "25%      91.000000  2006.000000\n",
       "50%     102.000000  2015.000000\n",
       "75%     116.000000  2021.000000\n",
       "max     248.000000  2023.000000"
      ]
     },
     "execution_count": 10,
     "metadata": {},
     "output_type": "execute_result"
    }
   ],
   "source": [
    "df.describe()"
   ]
  },
  {
   "cell_type": "code",
   "execution_count": 11,
   "id": "08ff4830",
   "metadata": {},
   "outputs": [],
   "source": [
    "# Function to clean the genre strings and extract the last genre \n",
    "def extract_last_genre(genre_str): \n",
    "    # Remove extraneous characters \n",
    "    cleaned_str = genre_str.strip(\"[]'\") \n",
    "    # Split the cleaned string by commas and extract the last genre \n",
    "    last_genre = cleaned_str.split(',')[-1].strip() \n",
    "    # Remove any leading or trailing single quotes \n",
    "    last_genre = last_genre.strip(\"'\")\n",
    "    return last_genre"
   ]
  },
  {
   "cell_type": "code",
   "execution_count": 12,
   "id": "b410b7c6",
   "metadata": {},
   "outputs": [],
   "source": [
    "# Apply the function to the 'Genre' column \n",
    "df['Genres'] = df['Genres'].apply(extract_last_genre)"
   ]
  },
  {
   "cell_type": "code",
   "execution_count": 13,
   "id": "251a6795",
   "metadata": {},
   "outputs": [],
   "source": [
    "# Extract the last genre from the list \n",
    "df['Genres'] = df['Genres'].apply(lambda x: x[-1].strip() if isinstance(x, list) else x.split(',')[-1].strip())"
   ]
  },
  {
   "cell_type": "code",
   "execution_count": 14,
   "id": "14289f94",
   "metadata": {},
   "outputs": [
    {
     "data": {
      "text/plain": [
       "0       Science Fiction\n",
       "1               Fantasy\n",
       "2                Comedy\n",
       "3                Comedy\n",
       "4                 Drama\n",
       "             ...       \n",
       "3961    Science Fiction\n",
       "3962             Horror\n",
       "3963              Drama\n",
       "3964             Horror\n",
       "3965          Adventure\n",
       "Name: Genres, Length: 3966, dtype: object"
      ]
     },
     "execution_count": 14,
     "metadata": {},
     "output_type": "execute_result"
    }
   ],
   "source": [
    "df['Genres']"
   ]
  },
  {
   "cell_type": "code",
   "execution_count": 15,
   "id": "40ee4a02",
   "metadata": {},
   "outputs": [
    {
     "data": {
      "text/plain": [
       "Thriller           602\n",
       "Drama              498\n",
       "Romance            379\n",
       "Comedy             367\n",
       "Fantasy            284\n",
       "Science Fiction    282\n",
       "Family             232\n",
       "Horror             226\n",
       "Action             211\n",
       "Crime              195\n",
       "Adventure          189\n",
       "Mystery            150\n",
       "Animation           64\n",
       "History             56\n",
       "Documentary         50\n",
       "War                 49\n",
       "TV Movie            48\n",
       "Music               39\n",
       "Western             28\n",
       "                    17\n",
       "Name: Genres, dtype: int64"
      ]
     },
     "execution_count": 15,
     "metadata": {},
     "output_type": "execute_result"
    }
   ],
   "source": [
    "df['Genres'].value_counts()"
   ]
  },
  {
   "cell_type": "code",
   "execution_count": 16,
   "id": "50fcc0e7",
   "metadata": {},
   "outputs": [
    {
     "data": {
      "text/plain": [
       "-                 1606\n",
       "$30,000,000.00       5\n",
       "$60,000,000.00       4\n",
       "$23,000,000.00       3\n",
       "$7,000,000.00        3\n",
       "                  ... \n",
       "$37,070,177.00       1\n",
       "$4,493,306.00        1\n",
       "$85,720,385.00       1\n",
       "$45,000,000.00       1\n",
       "$35,164,920.00       1\n",
       "Name: Revenue, Length: 2322, dtype: int64"
      ]
     },
     "execution_count": 16,
     "metadata": {},
     "output_type": "execute_result"
    }
   ],
   "source": [
    "df[\"Revenue\"].value_counts()"
   ]
  },
  {
   "cell_type": "code",
   "execution_count": 17,
   "id": "154a6c84",
   "metadata": {},
   "outputs": [],
   "source": [
    "# Replace '-' with NaN \n",
    "df['Revenue'] = df['Revenue'].replace('-', np.nan)"
   ]
  },
  {
   "cell_type": "code",
   "execution_count": 18,
   "id": "c417397b",
   "metadata": {},
   "outputs": [],
   "source": [
    "# Remove dollar signs and commas \n",
    "df['Revenue'] = df['Revenue'].str.replace('[\\$,]', '', regex=True)"
   ]
  },
  {
   "cell_type": "code",
   "execution_count": 19,
   "id": "505f9969",
   "metadata": {},
   "outputs": [],
   "source": [
    "# Convert to numeric type \n",
    "df['Revenue'] = pd.to_numeric(df['Revenue'])"
   ]
  },
  {
   "cell_type": "code",
   "execution_count": 20,
   "id": "8222f40d",
   "metadata": {},
   "outputs": [
    {
     "data": {
      "text/plain": [
       "0       835000000.0\n",
       "1       369105725.0\n",
       "2         4495365.0\n",
       "3       158000000.0\n",
       "4               NaN\n",
       "           ...     \n",
       "3961     68267862.0\n",
       "3962     10597734.0\n",
       "3963     35164920.0\n",
       "3964            NaN\n",
       "3965            NaN\n",
       "Name: Revenue, Length: 3966, dtype: float64"
      ]
     },
     "execution_count": 20,
     "metadata": {},
     "output_type": "execute_result"
    }
   ],
   "source": [
    "df['Revenue']"
   ]
  },
  {
   "cell_type": "code",
   "execution_count": 21,
   "id": "e4e5ebd0",
   "metadata": {},
   "outputs": [],
   "source": [
    "# Drop rows with NaN values \n",
    "df = df.dropna(subset=['Revenue'])"
   ]
  },
  {
   "cell_type": "code",
   "execution_count": 22,
   "id": "cfd4b32f",
   "metadata": {},
   "outputs": [
    {
     "data": {
      "text/plain": [
       "0       8.350000e+08\n",
       "1       3.691057e+08\n",
       "2       4.495365e+06\n",
       "3       1.580000e+08\n",
       "7       2.176000e+09\n",
       "            ...     \n",
       "3959    7.570960e+05\n",
       "3960    4.936462e+07\n",
       "3961    6.826786e+07\n",
       "3962    1.059773e+07\n",
       "3963    3.516492e+07\n",
       "Name: Revenue, Length: 2360, dtype: float64"
      ]
     },
     "execution_count": 22,
     "metadata": {},
     "output_type": "execute_result"
    }
   ],
   "source": [
    "df['Revenue']"
   ]
  },
  {
   "cell_type": "code",
   "execution_count": 23,
   "id": "64a7aadc",
   "metadata": {},
   "outputs": [],
   "source": [
    "# Convert the revenue column to plain float without scientific notation \n",
    "pd.options.display.float_format = '{:.1f}'.format"
   ]
  },
  {
   "cell_type": "code",
   "execution_count": 24,
   "id": "e8b939e3",
   "metadata": {
    "scrolled": true
   },
   "outputs": [
    {
     "data": {
      "text/html": [
       "<div>\n",
       "<style scoped>\n",
       "    .dataframe tbody tr th:only-of-type {\n",
       "        vertical-align: middle;\n",
       "    }\n",
       "\n",
       "    .dataframe tbody tr th {\n",
       "        vertical-align: top;\n",
       "    }\n",
       "\n",
       "    .dataframe thead th {\n",
       "        text-align: right;\n",
       "    }\n",
       "</style>\n",
       "<table border=\"1\" class=\"dataframe\">\n",
       "  <thead>\n",
       "    <tr style=\"text-align: right;\">\n",
       "      <th></th>\n",
       "      <th>Movie_Name</th>\n",
       "      <th>Genres</th>\n",
       "      <th>Revenue</th>\n",
       "      <th>Runtime</th>\n",
       "      <th>Year</th>\n",
       "    </tr>\n",
       "  </thead>\n",
       "  <tbody>\n",
       "    <tr>\n",
       "      <th>0</th>\n",
       "      <td>Black Panther: Wakanda Forever</td>\n",
       "      <td>Science Fiction</td>\n",
       "      <td>835000000.0</td>\n",
       "      <td>162.0</td>\n",
       "      <td>2022</td>\n",
       "    </tr>\n",
       "    <tr>\n",
       "      <th>1</th>\n",
       "      <td>Puss in Boots: The Last Wish</td>\n",
       "      <td>Fantasy</td>\n",
       "      <td>369105725.0</td>\n",
       "      <td>103.0</td>\n",
       "      <td>2022</td>\n",
       "    </tr>\n",
       "    <tr>\n",
       "      <th>2</th>\n",
       "      <td>Shotgun Wedding</td>\n",
       "      <td>Comedy</td>\n",
       "      <td>4495365.0</td>\n",
       "      <td>101.0</td>\n",
       "      <td>2022</td>\n",
       "    </tr>\n",
       "    <tr>\n",
       "      <th>3</th>\n",
       "      <td>M3GAN</td>\n",
       "      <td>Comedy</td>\n",
       "      <td>158000000.0</td>\n",
       "      <td>102.0</td>\n",
       "      <td>2023</td>\n",
       "    </tr>\n",
       "    <tr>\n",
       "      <th>7</th>\n",
       "      <td>Avatar: The Way of Water</td>\n",
       "      <td>Action</td>\n",
       "      <td>2176000000.0</td>\n",
       "      <td>192.0</td>\n",
       "      <td>2022</td>\n",
       "    </tr>\n",
       "    <tr>\n",
       "      <th>...</th>\n",
       "      <td>...</td>\n",
       "      <td>...</td>\n",
       "      <td>...</td>\n",
       "      <td>...</td>\n",
       "      <td>...</td>\n",
       "    </tr>\n",
       "    <tr>\n",
       "      <th>3959</th>\n",
       "      <td>Psycho-Pass 3: First Inspector</td>\n",
       "      <td>Animation</td>\n",
       "      <td>757096.0</td>\n",
       "      <td>137.0</td>\n",
       "      <td>2020</td>\n",
       "    </tr>\n",
       "    <tr>\n",
       "      <th>3960</th>\n",
       "      <td>National Lampoon's European Vacation</td>\n",
       "      <td>Romance</td>\n",
       "      <td>49364621.0</td>\n",
       "      <td>95.0</td>\n",
       "      <td>1985</td>\n",
       "    </tr>\n",
       "    <tr>\n",
       "      <th>3961</th>\n",
       "      <td>The Watch</td>\n",
       "      <td>Science Fiction</td>\n",
       "      <td>68267862.0</td>\n",
       "      <td>102.0</td>\n",
       "      <td>2012</td>\n",
       "    </tr>\n",
       "    <tr>\n",
       "      <th>3962</th>\n",
       "      <td>Primeval</td>\n",
       "      <td>Horror</td>\n",
       "      <td>10597734.0</td>\n",
       "      <td>93.0</td>\n",
       "      <td>2007</td>\n",
       "    </tr>\n",
       "    <tr>\n",
       "      <th>3963</th>\n",
       "      <td>The Girl in the Spider's Web</td>\n",
       "      <td>Drama</td>\n",
       "      <td>35164920.0</td>\n",
       "      <td>115.0</td>\n",
       "      <td>2018</td>\n",
       "    </tr>\n",
       "  </tbody>\n",
       "</table>\n",
       "<p>2360 rows × 5 columns</p>\n",
       "</div>"
      ],
      "text/plain": [
       "                                Movie_Name           Genres      Revenue  \\\n",
       "0           Black Panther: Wakanda Forever  Science Fiction  835000000.0   \n",
       "1             Puss in Boots: The Last Wish          Fantasy  369105725.0   \n",
       "2                          Shotgun Wedding           Comedy    4495365.0   \n",
       "3                                    M3GAN           Comedy  158000000.0   \n",
       "7                 Avatar: The Way of Water           Action 2176000000.0   \n",
       "...                                    ...              ...          ...   \n",
       "3959        Psycho-Pass 3: First Inspector        Animation     757096.0   \n",
       "3960  National Lampoon's European Vacation          Romance   49364621.0   \n",
       "3961                             The Watch  Science Fiction   68267862.0   \n",
       "3962                              Primeval           Horror   10597734.0   \n",
       "3963          The Girl in the Spider's Web            Drama   35164920.0   \n",
       "\n",
       "      Runtime  Year  \n",
       "0       162.0  2022  \n",
       "1       103.0  2022  \n",
       "2       101.0  2022  \n",
       "3       102.0  2023  \n",
       "7       192.0  2022  \n",
       "...       ...   ...  \n",
       "3959    137.0  2020  \n",
       "3960     95.0  1985  \n",
       "3961    102.0  2012  \n",
       "3962     93.0  2007  \n",
       "3963    115.0  2018  \n",
       "\n",
       "[2360 rows x 5 columns]"
      ]
     },
     "execution_count": 24,
     "metadata": {},
     "output_type": "execute_result"
    }
   ],
   "source": [
    "df"
   ]
  },
  {
   "cell_type": "code",
   "execution_count": 25,
   "id": "56aea885",
   "metadata": {},
   "outputs": [],
   "source": [
    "# Get the current working directory\n",
    "current_dir = os.getcwd()"
   ]
  },
  {
   "cell_type": "code",
   "execution_count": 26,
   "id": "c1b5caeb",
   "metadata": {},
   "outputs": [],
   "source": [
    "df.to_csv('Movies_dataset_cleaned.csv', index=False)"
   ]
  }
 ],
 "metadata": {
  "kernelspec": {
   "display_name": "Python 3 (ipykernel)",
   "language": "python",
   "name": "python3"
  },
  "language_info": {
   "codemirror_mode": {
    "name": "ipython",
    "version": 3
   },
   "file_extension": ".py",
   "mimetype": "text/x-python",
   "name": "python",
   "nbconvert_exporter": "python",
   "pygments_lexer": "ipython3",
   "version": "3.9.18"
  },
  "toc": {
   "base_numbering": 1,
   "nav_menu": {},
   "number_sections": true,
   "sideBar": true,
   "skip_h1_title": false,
   "title_cell": "Table of Contents",
   "title_sidebar": "Contents",
   "toc_cell": true,
   "toc_position": {},
   "toc_section_display": true,
   "toc_window_display": false
  }
 },
 "nbformat": 4,
 "nbformat_minor": 5
}
